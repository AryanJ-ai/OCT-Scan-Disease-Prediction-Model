{
 "cells": [
  {
   "cell_type": "code",
   "execution_count": 1,
   "id": "50bae222",
   "metadata": {},
   "outputs": [],
   "source": [
    "import tensorflow as tf \n",
    "import matplotlib.pyplot as plt\n",
    "import numpy as np\n",
    "import seaborn as sns\n",
    "import pandas as pd\n",
    "from tensorflow.keras.utils import image_dataset_from_directory # type: ignore\n",
    "from tensorflow.keras.metrics import Metric, Precision, Recall\n"
   ]
  },
  {
   "cell_type": "markdown",
   "id": "dbcc4863",
   "metadata": {},
   "source": [
    "DATA PREPARATION"
   ]
  },
  {
   "cell_type": "code",
   "execution_count": 2,
   "id": "58034262",
   "metadata": {},
   "outputs": [
    {
     "name": "stdout",
     "output_type": "stream",
     "text": [
      "Found 76515 files belonging to 4 classes.\n"
     ]
    }
   ],
   "source": [
    "training_set = image_dataset_from_directory(\n",
    "    \"./train\",\n",
    "    labels=\"inferred\",\n",
    "    label_mode=\"categorical\",\n",
    "    class_names=None,\n",
    "    color_mode=\"rgb\",\n",
    "    batch_size=32,\n",
    "    image_size=(224,224),\n",
    "    shuffle=True,\n",
    "    seed=None,\n",
    "    validation_split=None,\n",
    "    subset=None,\n",
    "    interpolation=\"bilinear\",\n",
    "    follow_links=False,\n",
    "    crop_to_aspect_ratio=False,\n",
    ")"
   ]
  },
  {
   "cell_type": "code",
   "execution_count": null,
   "id": "090f2210",
   "metadata": {},
   "outputs": [],
   "source": []
  },
  {
   "cell_type": "code",
   "execution_count": null,
   "id": "b7974a81",
   "metadata": {},
   "outputs": [
    {
     "name": "stdout",
     "output_type": "stream",
     "text": [
      "Found 21861 files belonging to 4 classes.\n"
     ]
    }
   ],
   "source": [
    "validation_set = image_dataset_from_directory(\n",
    "    \"./val\",\n",
    "    labels=\"inferred\",\n",
    "    label_mode=\"categorical\",\n",
    "    class_names=None,\n",
    "    color_mode=\"rgb\",\n",
    "    batch_size=32,\n",
    "    image_size=(224,224),\n",
    "    shuffle=True,\n",
    "    seed=None,\n",
    "    validation_split=None,\n",
    "    subset=None,\n",
    "    interpolation=\"bilinear\",\n",
    "    follow_links=False,\n",
    "    crop_to_aspect_ratio=False,\n",
    ")"
   ]
  },
  {
   "cell_type": "code",
   "execution_count": 4,
   "id": "97584c2e",
   "metadata": {},
   "outputs": [
    {
     "data": {
      "text/plain": [
       "<BatchDataset element_spec=(TensorSpec(shape=(None, 224, 224, 3), dtype=tf.float32, name=None), TensorSpec(shape=(None, 4), dtype=tf.float32, name=None))>"
      ]
     },
     "execution_count": 4,
     "metadata": {},
     "output_type": "execute_result"
    }
   ],
   "source": [
    "training_set"
   ]
  },
  {
   "cell_type": "code",
   "execution_count": 5,
   "id": "b7d2e740",
   "metadata": {},
   "outputs": [],
   "source": [
    "INPUT_SHAPE=(224,224,3)"
   ]
  },
  {
   "cell_type": "code",
   "execution_count": 6,
   "id": "ee390078",
   "metadata": {},
   "outputs": [],
   "source": [
    "mobnet = tf.keras.applications.MobileNetV3Large(\n",
    "    input_shape=INPUT_SHAPE,\n",
    "    alpha=1.0,\n",
    "    minimalistic=False,\n",
    "    include_top=True,\n",
    "    weights=\"imagenet\",\n",
    "    input_tensor=None,\n",
    "    classes=1000,\n",
    "    pooling=None,\n",
    "    dropout_rate=0.2,\n",
    "    classifier_activation=\"softmax\",\n",
    "    include_preprocessing=True,\n",
    "    #name=\"MobileNetV3Large\",\n",
    ")"
   ]
  },
  {
   "cell_type": "code",
   "execution_count": 7,
   "id": "0545e16d",
   "metadata": {},
   "outputs": [
    {
     "data": {
      "text/plain": [
       "'\\nIf you want to perform transfer learning then execute this cell\\n'"
      ]
     },
     "execution_count": 7,
     "metadata": {},
     "output_type": "execute_result"
    }
   ],
   "source": [
    "'''\n",
    "If you want to perform transfer learning then execute this cell\n",
    "'''\n",
    "\n",
    "#mobnet.trainable = False   #False -- to freeze weights of this pretrained model  (Only Dense layer can be modified)"
   ]
  },
  {
   "cell_type": "code",
   "execution_count": 8,
   "id": "58c62501",
   "metadata": {},
   "outputs": [],
   "source": [
    "model = tf.keras.models.Sequential()"
   ]
  },
  {
   "cell_type": "code",
   "execution_count": 9,
   "id": "e6a95646",
   "metadata": {},
   "outputs": [],
   "source": [
    "model.add(tf.keras.Input(shape=INPUT_SHAPE))"
   ]
  },
  {
   "cell_type": "code",
   "execution_count": 10,
   "id": "8f50ed82",
   "metadata": {},
   "outputs": [],
   "source": [
    "model.add(mobnet)"
   ]
  },
  {
   "cell_type": "code",
   "execution_count": 11,
   "id": "69f5d94d",
   "metadata": {},
   "outputs": [],
   "source": [
    "model.add(tf.keras.layers.Dense(units=4,activation=\"softmax\"))"
   ]
  },
  {
   "cell_type": "code",
   "execution_count": 13,
   "id": "f5382c25",
   "metadata": {},
   "outputs": [],
   "source": [
    "# Define custom F1Score metric\n",
    "class F1Score(Metric):\n",
    "    def __init__(self, name='f1_score', **kwargs):\n",
    "        super().__init__(name=name, **kwargs)\n",
    "        self.precision = Precision()\n",
    "        self.recall = Recall()\n",
    "\n",
    "    def update_state(self, y_true, y_pred, sample_weight=None):\n",
    "        self.precision.update_state(y_true, y_pred, sample_weight)\n",
    "        self.recall.update_state(y_true, y_pred, sample_weight)\n",
    "\n",
    "    def result(self):\n",
    "        p = self.precision.result()\n",
    "        r = self.recall.result()\n",
    "        return 2 * ((p * r) / (p + r + tf.keras.backend.epsilon()))\n",
    "\n",
    "    def reset_state(self):\n",
    "        self.precision.reset_state()\n",
    "        self.recall.reset_state()"
   ]
  },
  {
   "cell_type": "code",
   "execution_count": 14,
   "id": "dbead847",
   "metadata": {},
   "outputs": [],
   "source": [
    "metrics_list = [\"accuracy\", F1Score()]"
   ]
  },
  {
   "cell_type": "code",
   "execution_count": 14,
   "id": "509fd098",
   "metadata": {},
   "outputs": [],
   "source": [
    "model.compile(optimizer=tf.keras.optimizers.Adam(learning_rate=0.0001),loss=\"categorical_crossentropy\",metrics=metrics_list)"
   ]
  },
  {
   "cell_type": "code",
   "execution_count": 15,
   "id": "1cb319bf",
   "metadata": {},
   "outputs": [
    {
     "name": "stdout",
     "output_type": "stream",
     "text": [
      "Model: \"sequential\"\n",
      "_________________________________________________________________\n",
      " Layer (type)                Output Shape              Param #   \n",
      "=================================================================\n",
      " MobilenetV3large (Functiona  (None, 1000)             5507432   \n",
      " l)                                                              \n",
      "                                                                 \n",
      " dense (Dense)               (None, 4)                 4004      \n",
      "                                                                 \n",
      "=================================================================\n",
      "Total params: 5,511,436\n",
      "Trainable params: 5,487,036\n",
      "Non-trainable params: 24,400\n",
      "_________________________________________________________________\n"
     ]
    }
   ],
   "source": [
    "model.summary()"
   ]
  },
  {
   "cell_type": "code",
   "execution_count": 16,
   "id": "ff2933b8",
   "metadata": {},
   "outputs": [
    {
     "name": "stdout",
     "output_type": "stream",
     "text": [
      "Epoch 1/15\n",
      "2392/2392 [==============================] - 10412s 4s/step - loss: 1.1368 - accuracy: 0.8781 - f1_score: 0.0000e+00 - val_loss: 0.9753 - val_accuracy: 0.8578 - val_f1_score: 0.0000e+00\n",
      "Epoch 2/15\n",
      "2392/2392 [==============================] - 13205s 6s/step - loss: 0.8390 - accuracy: 0.8857 - f1_score: 0.5204 - val_loss: 0.7218 - val_accuracy: 0.8952 - val_f1_score: 0.8685\n",
      "Epoch 3/15\n",
      "2392/2392 [==============================] - 9927s 4s/step - loss: 0.6337 - accuracy: 0.9273 - f1_score: 0.8700 - val_loss: 0.5669 - val_accuracy: 0.9435 - val_f1_score: 0.8622\n",
      "Epoch 4/15\n",
      "2392/2392 [==============================] - 8317s 3s/step - loss: 0.4920 - accuracy: 0.9567 - f1_score: 0.8720 - val_loss: 0.4329 - val_accuracy: 0.9579 - val_f1_score: 0.8724\n",
      "Epoch 5/15\n",
      "2392/2392 [==============================] - 4992s 2s/step - loss: 0.3866 - accuracy: 0.9592 - f1_score: 0.9238 - val_loss: 0.3414 - val_accuracy: 0.9618 - val_f1_score: 0.9304\n",
      "Epoch 6/15\n",
      "2392/2392 [==============================] - 4992s 2s/step - loss: 0.2997 - accuracy: 0.9674 - f1_score: 0.9548 - val_loss: 0.2720 - val_accuracy: 0.9671 - val_f1_score: 0.9671\n",
      "Epoch 7/15\n",
      "2392/2392 [==============================] - 4970s 2s/step - loss: 0.2346 - accuracy: 0.9729 - f1_score: 0.9730 - val_loss: 0.2245 - val_accuracy: 0.9652 - val_f1_score: 0.9653\n",
      "Epoch 8/15\n",
      "2392/2392 [==============================] - 4967s 2s/step - loss: 0.1845 - accuracy: 0.9765 - f1_score: 0.9765 - val_loss: 0.1868 - val_accuracy: 0.9701 - val_f1_score: 0.9702\n",
      "Epoch 9/15\n",
      "2392/2392 [==============================] - 4933s 2s/step - loss: 0.1485 - accuracy: 0.9796 - f1_score: 0.9797 - val_loss: 0.1995 - val_accuracy: 0.9541 - val_f1_score: 0.9540\n",
      "Epoch 10/15\n",
      "2392/2392 [==============================] - 5607s 2s/step - loss: 0.1203 - accuracy: 0.9827 - f1_score: 0.9827 - val_loss: 0.1391 - val_accuracy: 0.9726 - val_f1_score: 0.9727\n",
      "Epoch 11/15\n",
      "2392/2392 [==============================] - 6483s 3s/step - loss: 0.1000 - accuracy: 0.9852 - f1_score: 0.9853 - val_loss: 0.1317 - val_accuracy: 0.9741 - val_f1_score: 0.9739\n",
      "Epoch 12/15\n",
      "2392/2392 [==============================] - 6097s 3s/step - loss: 0.0846 - accuracy: 0.9869 - f1_score: 0.9868 - val_loss: 0.1596 - val_accuracy: 0.9564 - val_f1_score: 0.9564\n",
      "Epoch 13/15\n",
      "2392/2392 [==============================] - 16113s 7s/step - loss: 0.0728 - accuracy: 0.9886 - f1_score: 0.9885 - val_loss: 0.1174 - val_accuracy: 0.9735 - val_f1_score: 0.9736\n",
      "Epoch 14/15\n",
      "2392/2392 [==============================] - 5046s 2s/step - loss: 0.0656 - accuracy: 0.9889 - f1_score: 0.9889 - val_loss: 0.1127 - val_accuracy: 0.9732 - val_f1_score: 0.9733\n",
      "Epoch 15/15\n",
      "2392/2392 [==============================] - 6818s 3s/step - loss: 0.0566 - accuracy: 0.9903 - f1_score: 0.9904 - val_loss: 0.1154 - val_accuracy: 0.9727 - val_f1_score: 0.9729\n"
     ]
    }
   ],
   "source": [
    "training_history = model.fit(x=training_set,validation_data=validation_set,epochs=15)"
   ]
  },
  {
   "cell_type": "code",
   "execution_count": 17,
   "id": "db1ac312",
   "metadata": {},
   "outputs": [],
   "source": [
    "model.save(\"./Trained_Eye_disease_model.h5\")\n",
    "model.save(\"./Trained_Eye_disease_model.keras\")"
   ]
  },
  {
   "cell_type": "code",
   "execution_count": 18,
   "id": "ca7d4410",
   "metadata": {},
   "outputs": [
    {
     "data": {
      "text/plain": [
       "<keras.callbacks.History at 0x1f4cf7eaef0>"
      ]
     },
     "execution_count": 18,
     "metadata": {},
     "output_type": "execute_result"
    }
   ],
   "source": [
    "training_history"
   ]
  },
  {
   "cell_type": "code",
   "execution_count": 19,
   "id": "1249bc55",
   "metadata": {},
   "outputs": [
    {
     "data": {
      "text/plain": [
       "{'loss': [1.136765718460083,\n",
       "  0.8389551043510437,\n",
       "  0.6337480545043945,\n",
       "  0.49197885394096375,\n",
       "  0.38655635714530945,\n",
       "  0.2997327446937561,\n",
       "  0.23460792005062103,\n",
       "  0.18450190126895905,\n",
       "  0.1485278606414795,\n",
       "  0.12032656371593475,\n",
       "  0.10000696778297424,\n",
       "  0.08464951068162918,\n",
       "  0.0727638378739357,\n",
       "  0.06558936834335327,\n",
       "  0.05663696676492691],\n",
       " 'accuracy': [0.8780892491340637,\n",
       "  0.885721743106842,\n",
       "  0.9272691607475281,\n",
       "  0.956662118434906,\n",
       "  0.959236741065979,\n",
       "  0.9673920273780823,\n",
       "  0.9728811383247375,\n",
       "  0.9765143990516663,\n",
       "  0.9796379804611206,\n",
       "  0.9826570153236389,\n",
       "  0.9852185845375061,\n",
       "  0.9868914484977722,\n",
       "  0.9885774254798889,\n",
       "  0.988943338394165,\n",
       "  0.9902895092964172],\n",
       " 'f1_score': [0.0,\n",
       "  0.5203922986984253,\n",
       "  0.8699582815170288,\n",
       "  0.8720402121543884,\n",
       "  0.9237736463546753,\n",
       "  0.9547768235206604,\n",
       "  0.9730101227760315,\n",
       "  0.9764694571495056,\n",
       "  0.979703962802887,\n",
       "  0.9826973676681519,\n",
       "  0.9852668046951294,\n",
       "  0.9868367314338684,\n",
       "  0.9884791970252991,\n",
       "  0.9889116287231445,\n",
       "  0.9903638362884521],\n",
       " 'val_loss': [0.9753406643867493,\n",
       "  0.7217915654182434,\n",
       "  0.5669050812721252,\n",
       "  0.4328845143318176,\n",
       "  0.34140023589134216,\n",
       "  0.27201560139656067,\n",
       "  0.22452445328235626,\n",
       "  0.18676243722438812,\n",
       "  0.19949282705783844,\n",
       "  0.13910305500030518,\n",
       "  0.13168296217918396,\n",
       "  0.15960809588432312,\n",
       "  0.1173643097281456,\n",
       "  0.11267980188131332,\n",
       "  0.1154191717505455],\n",
       " 'val_accuracy': [0.8578290343284607,\n",
       "  0.895247220993042,\n",
       "  0.9434609413146973,\n",
       "  0.9579159021377563,\n",
       "  0.9618041515350342,\n",
       "  0.967064619064331,\n",
       "  0.9652348756790161,\n",
       "  0.9700837135314941,\n",
       "  0.9541192054748535,\n",
       "  0.9725996255874634,\n",
       "  0.9740633964538574,\n",
       "  0.9564064145088196,\n",
       "  0.9735144972801208,\n",
       "  0.9732400178909302,\n",
       "  0.9726911187171936],\n",
       " 'val_f1_score': [0.0,\n",
       "  0.868487536907196,\n",
       "  0.8622061610221863,\n",
       "  0.872408926486969,\n",
       "  0.930436372756958,\n",
       "  0.9671207070350647,\n",
       "  0.9652590751647949,\n",
       "  0.9701820015907288,\n",
       "  0.954045832157135,\n",
       "  0.9727228283882141,\n",
       "  0.973948061466217,\n",
       "  0.956428050994873,\n",
       "  0.9736286997795105,\n",
       "  0.9732884168624878,\n",
       "  0.9728999137878418]}"
      ]
     },
     "execution_count": 19,
     "metadata": {},
     "output_type": "execute_result"
    }
   ],
   "source": [
    "training_history.history"
   ]
  },
  {
   "cell_type": "code",
   "execution_count": 20,
   "id": "0714e6ed",
   "metadata": {},
   "outputs": [],
   "source": [
    "#Saving history\n",
    "import pickle\n",
    "with open(\"Training_history.pkl\",'wb') as file:\n",
    "    pickle.dump(training_history.history,file)\n"
   ]
  },
  {
   "cell_type": "markdown",
   "id": "ccf59ce9",
   "metadata": {},
   "source": [
    "RELOADING HISTORY FROM PICKLE FILE"
   ]
  },
  {
   "cell_type": "code",
   "execution_count": 2,
   "id": "aabf5bc8",
   "metadata": {},
   "outputs": [
    {
     "name": "stdout",
     "output_type": "stream",
     "text": [
      "{'loss': [1.136765718460083, 0.8389551043510437, 0.6337480545043945, 0.49197885394096375, 0.38655635714530945, 0.2997327446937561, 0.23460792005062103, 0.18450190126895905, 0.1485278606414795, 0.12032656371593475, 0.10000696778297424, 0.08464951068162918, 0.0727638378739357, 0.06558936834335327, 0.05663696676492691], 'accuracy': [0.8780892491340637, 0.885721743106842, 0.9272691607475281, 0.956662118434906, 0.959236741065979, 0.9673920273780823, 0.9728811383247375, 0.9765143990516663, 0.9796379804611206, 0.9826570153236389, 0.9852185845375061, 0.9868914484977722, 0.9885774254798889, 0.988943338394165, 0.9902895092964172], 'f1_score': [0.0, 0.5203922986984253, 0.8699582815170288, 0.8720402121543884, 0.9237736463546753, 0.9547768235206604, 0.9730101227760315, 0.9764694571495056, 0.979703962802887, 0.9826973676681519, 0.9852668046951294, 0.9868367314338684, 0.9884791970252991, 0.9889116287231445, 0.9903638362884521], 'val_loss': [0.9753406643867493, 0.7217915654182434, 0.5669050812721252, 0.4328845143318176, 0.34140023589134216, 0.27201560139656067, 0.22452445328235626, 0.18676243722438812, 0.19949282705783844, 0.13910305500030518, 0.13168296217918396, 0.15960809588432312, 0.1173643097281456, 0.11267980188131332, 0.1154191717505455], 'val_accuracy': [0.8578290343284607, 0.895247220993042, 0.9434609413146973, 0.9579159021377563, 0.9618041515350342, 0.967064619064331, 0.9652348756790161, 0.9700837135314941, 0.9541192054748535, 0.9725996255874634, 0.9740633964538574, 0.9564064145088196, 0.9735144972801208, 0.9732400178909302, 0.9726911187171936], 'val_f1_score': [0.0, 0.868487536907196, 0.8622061610221863, 0.872408926486969, 0.930436372756958, 0.9671207070350647, 0.9652590751647949, 0.9701820015907288, 0.954045832157135, 0.9727228283882141, 0.973948061466217, 0.956428050994873, 0.9736286997795105, 0.9732884168624878, 0.9728999137878418]}\n"
     ]
    }
   ],
   "source": [
    "import pickle\n",
    "with open(\"Training_history.pkl\",\"rb\") as file :\n",
    "    load_history = pickle.load(file)\n",
    "print(load_history)"
   ]
  },
  {
   "cell_type": "code",
   "execution_count": 3,
   "id": "70111ea4",
   "metadata": {},
   "outputs": [
    {
     "data": {
      "text/plain": [
       "dict_keys(['loss', 'accuracy', 'f1_score', 'val_loss', 'val_accuracy', 'val_f1_score'])"
      ]
     },
     "execution_count": 3,
     "metadata": {},
     "output_type": "execute_result"
    }
   ],
   "source": [
    "load_history.keys()"
   ]
  },
  {
   "cell_type": "code",
   "execution_count": 4,
   "id": "b103d5bc",
   "metadata": {},
   "outputs": [
    {
     "data": {
      "image/png": "[encoded data removed]",
      "text/plain": [
       "<Figure size 640x480 with 1 Axes>"
      ]
     },
     "metadata": {},
     "output_type": "display_data"
    }
   ],
   "source": [
    "#LOSS VISUALISATION \n",
    "\n",
    "epochs =[i for i in range(1,16)]\n",
    "plt.plot(epochs,load_history['loss'],color='red',label='Training Loss')\n",
    "plt.plot(epochs,load_history['val_loss'],color='blue',label='Training Loss')\n",
    "plt.xlabel(\" No. of Epochs\")\n",
    "plt.ylabel(\"Loss\")\n",
    "plt.title(\"VIsualization of Loss Result\")\n",
    "plt.show()\n"
   ]
  },
  {
   "cell_type": "markdown",
   "id": "434cf971",
   "metadata": {},
   "source": [
    "MODEL EVALUAtION"
   ]
  },
  {
   "cell_type": "code",
   "execution_count": 5,
   "id": "facdd746",
   "metadata": {},
   "outputs": [
    {
     "name": "stdout",
     "output_type": "stream",
     "text": [
      "Model: \"sequential\"\n",
      "_________________________________________________________________\n",
      " Layer (type)                Output Shape              Param #   \n",
      "=================================================================\n",
      " MobilenetV3large (Functiona  (None, 1000)             5507432   \n",
      " l)                                                              \n",
      "                                                                 \n",
      " dense (Dense)               (None, 4)                 4004      \n",
      "                                                                 \n",
      "=================================================================\n",
      "Total params: 5,511,436\n",
      "Trainable params: 5,487,036\n",
      "Non-trainable params: 24,400\n",
      "_________________________________________________________________\n"
     ]
    }
   ],
   "source": [
    "import tensorflow as tf\n",
    "\n",
    "# Load the model without compiling\n",
    "model = tf.keras.models.load_model(\"Trained_Eye_disease_model.h5\", compile=False)\n",
    "\n",
    "# Verify the model\n",
    "model.summary()"
   ]
  },
  {
   "cell_type": "code",
   "execution_count": 6,
   "id": "b3cdc2ed",
   "metadata": {},
   "outputs": [],
   "source": [
    "model.compile(optimizer=\"adam\", loss=\"categorical_crossentropy\", metrics=[\"accuracy\"])"
   ]
  },
  {
   "cell_type": "code",
   "execution_count": 23,
   "id": "577fdd16",
   "metadata": {},
   "outputs": [
    {
     "name": "stdout",
     "output_type": "stream",
     "text": [
      "Found 10933 files belonging to 4 classes.\n"
     ]
    }
   ],
   "source": [
    "test_set = image_dataset_from_directory(\n",
    "    \"./test\",\n",
    "    labels=\"inferred\",\n",
    "    label_mode=\"categorical\",\n",
    "    class_names=None,\n",
    "    color_mode=\"rgb\",\n",
    "    batch_size=32,\n",
    "    image_size=(224,224),\n",
    "    shuffle=False,\n",
    "    seed=None,\n",
    "    validation_split=None,\n",
    "    subset=None,\n",
    "    interpolation=\"bilinear\",\n",
    "    follow_links=False,\n",
    "    crop_to_aspect_ratio=False,\n",
    ")"
   ]
  },
  {
   "cell_type": "code",
   "execution_count": 24,
   "id": "e1ab1d7b",
   "metadata": {},
   "outputs": [
    {
     "name": "stdout",
     "output_type": "stream",
     "text": [
      "342/342 [==============================] - 158s 460ms/step - loss: 0.1206 - accuracy: 0.9706\n"
     ]
    }
   ],
   "source": [
    "test_loss,test_acc= model.evaluate(test_set)"
   ]
  },
  {
   "cell_type": "code",
   "execution_count": 25,
   "id": "b26498c2",
   "metadata": {},
   "outputs": [
    {
     "name": "stdout",
     "output_type": "stream",
     "text": [
      "Test loss :  0.12058097124099731\n",
      "Test accuracy :  0.9706393480300903\n"
     ]
    }
   ],
   "source": [
    "print(\"Test loss : \",test_loss)\n",
    "print(\"Test accuracy : \",test_acc)"
   ]
  },
  {
   "cell_type": "markdown",
   "id": "0260f0bb",
   "metadata": {},
   "source": [
    "Computing True label from test set "
   ]
  },
  {
   "cell_type": "code",
   "execution_count": 26,
   "id": "1247a7d0",
   "metadata": {},
   "outputs": [],
   "source": [
    "true_categories = tf.concat([y for x,y in test_set],axis=0)\n",
    "Y_true = tf.argmax(true_categories,axis=1)\n",
    "\n"
   ]
  },
  {
   "cell_type": "code",
   "execution_count": 27,
   "id": "bce97644",
   "metadata": {},
   "outputs": [
    {
     "data": {
      "text/plain": [
       "<tf.Tensor: shape=(10933, 4), dtype=float32, numpy=\n",
       "array([[1., 0., 0., 0.],\n",
       "       [1., 0., 0., 0.],\n",
       "       [1., 0., 0., 0.],\n",
       "       ...,\n",
       "       [0., 0., 0., 1.],\n",
       "       [0., 0., 0., 1.],\n",
       "       [0., 0., 0., 1.]], dtype=float32)>"
      ]
     },
     "execution_count": 27,
     "metadata": {},
     "output_type": "execute_result"
    }
   ],
   "source": [
    "true_categories"
   ]
  },
  {
   "cell_type": "code",
   "execution_count": 28,
   "id": "56b14300",
   "metadata": {},
   "outputs": [
    {
     "data": {
      "text/plain": [
       "<tf.Tensor: shape=(10933,), dtype=int64, numpy=array([0, 0, 0, ..., 3, 3, 3], dtype=int64)>"
      ]
     },
     "execution_count": 28,
     "metadata": {},
     "output_type": "execute_result"
    }
   ],
   "source": [
    "Y_true"
   ]
  },
  {
   "cell_type": "markdown",
   "id": "452cd33c",
   "metadata": {},
   "source": [
    "Computing Predicted labels using test_set"
   ]
  },
  {
   "cell_type": "code",
   "execution_count": 29,
   "id": "89a2a460",
   "metadata": {},
   "outputs": [
    {
     "name": "stdout",
     "output_type": "stream",
     "text": [
      "342/342 [==============================] - 181s 530ms/step\n"
     ]
    }
   ],
   "source": [
    "predicted_categories = model.predict(test_set)"
   ]
  },
  {
   "cell_type": "code",
   "execution_count": 30,
   "id": "44d6a25f",
   "metadata": {},
   "outputs": [
    {
     "data": {
      "text/plain": [
       "array([[0.9844604 , 0.00441158, 0.00650212, 0.00462582],\n",
       "       [0.9844514 , 0.00441327, 0.00650732, 0.00462806],\n",
       "       [0.9844604 , 0.00441158, 0.00650212, 0.00462582],\n",
       "       ...,\n",
       "       [0.00299843, 0.00361626, 0.00498543, 0.9884    ],\n",
       "       [0.00299843, 0.00361626, 0.00498543, 0.9884    ],\n",
       "       [0.00299843, 0.00361626, 0.00498543, 0.9884    ]], dtype=float32)"
      ]
     },
     "execution_count": 30,
     "metadata": {},
     "output_type": "execute_result"
    }
   ],
   "source": [
    "predicted_categories"
   ]
  },
  {
   "cell_type": "code",
   "execution_count": 31,
   "id": "b09636f8",
   "metadata": {},
   "outputs": [],
   "source": [
    "Y_predict = tf.argmax(predicted_categories,axis=1)"
   ]
  },
  {
   "cell_type": "code",
   "execution_count": 33,
   "id": "a3ebba22",
   "metadata": {},
   "outputs": [
    {
     "data": {
      "text/plain": [
       "<tf.Tensor: shape=(10933,), dtype=int64, numpy=array([0, 0, 0, ..., 3, 3, 3], dtype=int64)>"
      ]
     },
     "execution_count": 33,
     "metadata": {},
     "output_type": "execute_result"
    }
   ],
   "source": [
    "Y_predict"
   ]
  },
  {
   "cell_type": "markdown",
   "id": "f924a933",
   "metadata": {},
   "source": [
    "1. Classification Report "
   ]
  },
  {
   "cell_type": "code",
   "execution_count": 34,
   "id": "10434f81",
   "metadata": {},
   "outputs": [
    {
     "name": "stdout",
     "output_type": "stream",
     "text": [
      "              precision    recall  f1-score   support\n",
      "\n",
      "           0       0.99      0.96      0.97      3746\n",
      "           1       0.97      0.94      0.96      1161\n",
      "           2       0.85      0.91      0.88       887\n",
      "           3       0.98      0.99      0.99      5139\n",
      "\n",
      "    accuracy                           0.97     10933\n",
      "   macro avg       0.95      0.95      0.95     10933\n",
      "weighted avg       0.97      0.97      0.97     10933\n",
      "\n"
     ]
    }
   ],
   "source": [
    "from sklearn.metrics import classification_report\n",
    "print(classification_report(Y_true,Y_predict))"
   ]
  },
  {
   "cell_type": "markdown",
   "id": "2deb621e",
   "metadata": {},
   "source": [
    "2. Confusion Matrix"
   ]
  },
  {
   "cell_type": "code",
   "execution_count": 35,
   "id": "25dd8918",
   "metadata": {},
   "outputs": [
    {
     "data": {
      "text/plain": [
       "array([[3602,   19,  118,    7],\n",
       "       [  18, 1095,    4,   44],\n",
       "       [  31,    3,  810,   43],\n",
       "       [   4,    9,   21, 5105]], dtype=int64)"
      ]
     },
     "execution_count": 35,
     "metadata": {},
     "output_type": "execute_result"
    }
   ],
   "source": [
    "from sklearn.metrics import confusion_matrix\n",
    "cm = confusion_matrix(Y_true,Y_predict)\n",
    "cm"
   ]
  },
  {
   "cell_type": "code",
   "execution_count": 36,
   "id": "578b0447",
   "metadata": {},
   "outputs": [
    {
     "data": {
      "image/png": "[encoded data removed]",
      "text/plain": [
       "<Figure size 1000x1000 with 2 Axes>"
      ]
     },
     "metadata": {},
     "output_type": "display_data"
    }
   ],
   "source": [
    "plt.figure(figsize=(10,10))\n",
    "sns.heatmap(cm,annot=True,annot_kws={\"size\":8})\n",
    "plt.xlabel(\"Predicted Class\",fontsize=10)\n",
    "plt.ylabel(\"Actual class\",fontsize=10)\n",
    "plt.title(\"Human Eye Disease Prediction Confusion Matrix\",fontsize=10)\n",
    "plt.show()"
   ]
  }
 ],
 "metadata": {
  "kernelspec": {
   "display_name": "Python 3",
   "language": "python",
   "name": "python3"
  },
  "language_info": {
   "codemirror_mode": {
    "name": "ipython",
    "version": 3
   },
   "file_extension": ".py",
   "mimetype": "text/x-python",
   "name": "python",
   "nbconvert_exporter": "python",
   "pygments_lexer": "ipython3",
   "version": "3.10.0"
  }
 },
 "nbformat": 4,
 "nbformat_minor": 5
}
